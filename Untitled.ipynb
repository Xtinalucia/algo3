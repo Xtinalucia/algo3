{
 "cells": [
  {
   "cell_type": "code",
   "execution_count": null,
   "id": "0af98335",
   "metadata": {},
   "outputs": [],
   "source": [
    "class func:\n",
    "\t\n",
    "\tdef __init__(self,value, next=None):\n",
    "\t\tself.value = value\n",
    "\t\tself.next = next\n",
    "\n",
    "class links:\n",
    "\tdef __init__(self):\n",
    "\t\tself.head = node\n",
    "\n",
    "\n",
    "\n",
    "#my 3 nodes\n",
    "node1 = linknode('1') #nodes mot yet linked\n",
    "node2 = linknode('8')\n",
    "node3 = linknode('15')\n",
    "\n",
    "node1.next = node 2 #1 --> 2\n",
    "node2.next = node 3 #2 --> 3\n",
    "node3.next = node 4 #3 --> 4\n",
    "\n",
    "currnode = node1#where we start\n",
    "while True:\n",
    "\t\n",
    "\tif currnode.nextnode is None:\n",
    "\t\tprint \"None\"\n",
    "\t\tbreak\n",
    "currnode = currnode.next\n",
    "\n",
    "\t\t\n",
    "\t"
   ]
  }
 ],
 "metadata": {
  "kernelspec": {
   "display_name": "Python 3",
   "language": "python",
   "name": "python3"
  },
  "language_info": {
   "codemirror_mode": {
    "name": "ipython",
    "version": 3
   },
   "file_extension": ".py",
   "mimetype": "text/x-python",
   "name": "python",
   "nbconvert_exporter": "python",
   "pygments_lexer": "ipython3",
   "version": "3.8.8"
  }
 },
 "nbformat": 4,
 "nbformat_minor": 5
}
